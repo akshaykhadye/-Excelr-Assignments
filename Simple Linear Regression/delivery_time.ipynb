{
 "cells": [
  {
   "cell_type": "code",
   "execution_count": 1,
   "id": "ea666621",
   "metadata": {},
   "outputs": [],
   "source": [
    "import pandas as pd\n",
    "import numpy as np\n",
    "import seaborn as sns\n",
    "import statsmodels.formula.api as smf"
   ]
  },
  {
   "cell_type": "code",
   "execution_count": 3,
   "id": "b08e3448",
   "metadata": {},
   "outputs": [],
   "source": [
    "DT = pd.read_csv('C://Users//Akshay//Downloads//delivery_time.csv')"
   ]
  },
  {
   "cell_type": "code",
   "execution_count": 4,
   "id": "42b1f2de",
   "metadata": {},
   "outputs": [
    {
     "data": {
      "text/html": [
       "<div>\n",
       "<style scoped>\n",
       "    .dataframe tbody tr th:only-of-type {\n",
       "        vertical-align: middle;\n",
       "    }\n",
       "\n",
       "    .dataframe tbody tr th {\n",
       "        vertical-align: top;\n",
       "    }\n",
       "\n",
       "    .dataframe thead th {\n",
       "        text-align: right;\n",
       "    }\n",
       "</style>\n",
       "<table border=\"1\" class=\"dataframe\">\n",
       "  <thead>\n",
       "    <tr style=\"text-align: right;\">\n",
       "      <th></th>\n",
       "      <th>Delivery Time</th>\n",
       "      <th>Sorting Time</th>\n",
       "    </tr>\n",
       "  </thead>\n",
       "  <tbody>\n",
       "    <tr>\n",
       "      <th>0</th>\n",
       "      <td>21.00</td>\n",
       "      <td>10</td>\n",
       "    </tr>\n",
       "    <tr>\n",
       "      <th>1</th>\n",
       "      <td>13.50</td>\n",
       "      <td>4</td>\n",
       "    </tr>\n",
       "    <tr>\n",
       "      <th>2</th>\n",
       "      <td>19.75</td>\n",
       "      <td>6</td>\n",
       "    </tr>\n",
       "    <tr>\n",
       "      <th>3</th>\n",
       "      <td>24.00</td>\n",
       "      <td>9</td>\n",
       "    </tr>\n",
       "    <tr>\n",
       "      <th>4</th>\n",
       "      <td>29.00</td>\n",
       "      <td>10</td>\n",
       "    </tr>\n",
       "    <tr>\n",
       "      <th>5</th>\n",
       "      <td>15.35</td>\n",
       "      <td>6</td>\n",
       "    </tr>\n",
       "    <tr>\n",
       "      <th>6</th>\n",
       "      <td>19.00</td>\n",
       "      <td>7</td>\n",
       "    </tr>\n",
       "    <tr>\n",
       "      <th>7</th>\n",
       "      <td>9.50</td>\n",
       "      <td>3</td>\n",
       "    </tr>\n",
       "    <tr>\n",
       "      <th>8</th>\n",
       "      <td>17.90</td>\n",
       "      <td>10</td>\n",
       "    </tr>\n",
       "    <tr>\n",
       "      <th>9</th>\n",
       "      <td>18.75</td>\n",
       "      <td>9</td>\n",
       "    </tr>\n",
       "    <tr>\n",
       "      <th>10</th>\n",
       "      <td>19.83</td>\n",
       "      <td>8</td>\n",
       "    </tr>\n",
       "    <tr>\n",
       "      <th>11</th>\n",
       "      <td>10.75</td>\n",
       "      <td>4</td>\n",
       "    </tr>\n",
       "    <tr>\n",
       "      <th>12</th>\n",
       "      <td>16.68</td>\n",
       "      <td>7</td>\n",
       "    </tr>\n",
       "    <tr>\n",
       "      <th>13</th>\n",
       "      <td>11.50</td>\n",
       "      <td>3</td>\n",
       "    </tr>\n",
       "    <tr>\n",
       "      <th>14</th>\n",
       "      <td>12.03</td>\n",
       "      <td>3</td>\n",
       "    </tr>\n",
       "    <tr>\n",
       "      <th>15</th>\n",
       "      <td>14.88</td>\n",
       "      <td>4</td>\n",
       "    </tr>\n",
       "    <tr>\n",
       "      <th>16</th>\n",
       "      <td>13.75</td>\n",
       "      <td>6</td>\n",
       "    </tr>\n",
       "    <tr>\n",
       "      <th>17</th>\n",
       "      <td>18.11</td>\n",
       "      <td>7</td>\n",
       "    </tr>\n",
       "    <tr>\n",
       "      <th>18</th>\n",
       "      <td>8.00</td>\n",
       "      <td>2</td>\n",
       "    </tr>\n",
       "    <tr>\n",
       "      <th>19</th>\n",
       "      <td>17.83</td>\n",
       "      <td>7</td>\n",
       "    </tr>\n",
       "    <tr>\n",
       "      <th>20</th>\n",
       "      <td>21.50</td>\n",
       "      <td>5</td>\n",
       "    </tr>\n",
       "  </tbody>\n",
       "</table>\n",
       "</div>"
      ],
      "text/plain": [
       "    Delivery Time  Sorting Time\n",
       "0           21.00            10\n",
       "1           13.50             4\n",
       "2           19.75             6\n",
       "3           24.00             9\n",
       "4           29.00            10\n",
       "5           15.35             6\n",
       "6           19.00             7\n",
       "7            9.50             3\n",
       "8           17.90            10\n",
       "9           18.75             9\n",
       "10          19.83             8\n",
       "11          10.75             4\n",
       "12          16.68             7\n",
       "13          11.50             3\n",
       "14          12.03             3\n",
       "15          14.88             4\n",
       "16          13.75             6\n",
       "17          18.11             7\n",
       "18           8.00             2\n",
       "19          17.83             7\n",
       "20          21.50             5"
      ]
     },
     "execution_count": 4,
     "metadata": {},
     "output_type": "execute_result"
    }
   ],
   "source": [
    "DT"
   ]
  },
  {
   "cell_type": "code",
   "execution_count": 5,
   "id": "dcce9026",
   "metadata": {},
   "outputs": [
    {
     "data": {
      "text/plain": [
       "Delivery Time    float64\n",
       "Sorting Time       int64\n",
       "dtype: object"
      ]
     },
     "execution_count": 5,
     "metadata": {},
     "output_type": "execute_result"
    }
   ],
   "source": [
    "DT.dtypes"
   ]
  },
  {
   "cell_type": "code",
   "execution_count": 6,
   "id": "0f8a774f",
   "metadata": {},
   "outputs": [],
   "source": [
    "#making the data types same\n",
    "DT['Sorting Time'] = DT['Sorting Time'].astype('float64')"
   ]
  },
  {
   "cell_type": "code",
   "execution_count": 7,
   "id": "9a50f1cf",
   "metadata": {},
   "outputs": [
    {
     "data": {
      "text/html": [
       "<div>\n",
       "<style scoped>\n",
       "    .dataframe tbody tr th:only-of-type {\n",
       "        vertical-align: middle;\n",
       "    }\n",
       "\n",
       "    .dataframe tbody tr th {\n",
       "        vertical-align: top;\n",
       "    }\n",
       "\n",
       "    .dataframe thead th {\n",
       "        text-align: right;\n",
       "    }\n",
       "</style>\n",
       "<table border=\"1\" class=\"dataframe\">\n",
       "  <thead>\n",
       "    <tr style=\"text-align: right;\">\n",
       "      <th></th>\n",
       "      <th>Delivery Time</th>\n",
       "      <th>Sorting Time</th>\n",
       "    </tr>\n",
       "  </thead>\n",
       "  <tbody>\n",
       "    <tr>\n",
       "      <th>0</th>\n",
       "      <td>21.00</td>\n",
       "      <td>10.0</td>\n",
       "    </tr>\n",
       "    <tr>\n",
       "      <th>1</th>\n",
       "      <td>13.50</td>\n",
       "      <td>4.0</td>\n",
       "    </tr>\n",
       "    <tr>\n",
       "      <th>2</th>\n",
       "      <td>19.75</td>\n",
       "      <td>6.0</td>\n",
       "    </tr>\n",
       "    <tr>\n",
       "      <th>3</th>\n",
       "      <td>24.00</td>\n",
       "      <td>9.0</td>\n",
       "    </tr>\n",
       "    <tr>\n",
       "      <th>4</th>\n",
       "      <td>29.00</td>\n",
       "      <td>10.0</td>\n",
       "    </tr>\n",
       "    <tr>\n",
       "      <th>5</th>\n",
       "      <td>15.35</td>\n",
       "      <td>6.0</td>\n",
       "    </tr>\n",
       "    <tr>\n",
       "      <th>6</th>\n",
       "      <td>19.00</td>\n",
       "      <td>7.0</td>\n",
       "    </tr>\n",
       "    <tr>\n",
       "      <th>7</th>\n",
       "      <td>9.50</td>\n",
       "      <td>3.0</td>\n",
       "    </tr>\n",
       "    <tr>\n",
       "      <th>8</th>\n",
       "      <td>17.90</td>\n",
       "      <td>10.0</td>\n",
       "    </tr>\n",
       "    <tr>\n",
       "      <th>9</th>\n",
       "      <td>18.75</td>\n",
       "      <td>9.0</td>\n",
       "    </tr>\n",
       "    <tr>\n",
       "      <th>10</th>\n",
       "      <td>19.83</td>\n",
       "      <td>8.0</td>\n",
       "    </tr>\n",
       "    <tr>\n",
       "      <th>11</th>\n",
       "      <td>10.75</td>\n",
       "      <td>4.0</td>\n",
       "    </tr>\n",
       "    <tr>\n",
       "      <th>12</th>\n",
       "      <td>16.68</td>\n",
       "      <td>7.0</td>\n",
       "    </tr>\n",
       "    <tr>\n",
       "      <th>13</th>\n",
       "      <td>11.50</td>\n",
       "      <td>3.0</td>\n",
       "    </tr>\n",
       "    <tr>\n",
       "      <th>14</th>\n",
       "      <td>12.03</td>\n",
       "      <td>3.0</td>\n",
       "    </tr>\n",
       "    <tr>\n",
       "      <th>15</th>\n",
       "      <td>14.88</td>\n",
       "      <td>4.0</td>\n",
       "    </tr>\n",
       "    <tr>\n",
       "      <th>16</th>\n",
       "      <td>13.75</td>\n",
       "      <td>6.0</td>\n",
       "    </tr>\n",
       "    <tr>\n",
       "      <th>17</th>\n",
       "      <td>18.11</td>\n",
       "      <td>7.0</td>\n",
       "    </tr>\n",
       "    <tr>\n",
       "      <th>18</th>\n",
       "      <td>8.00</td>\n",
       "      <td>2.0</td>\n",
       "    </tr>\n",
       "    <tr>\n",
       "      <th>19</th>\n",
       "      <td>17.83</td>\n",
       "      <td>7.0</td>\n",
       "    </tr>\n",
       "    <tr>\n",
       "      <th>20</th>\n",
       "      <td>21.50</td>\n",
       "      <td>5.0</td>\n",
       "    </tr>\n",
       "  </tbody>\n",
       "</table>\n",
       "</div>"
      ],
      "text/plain": [
       "    Delivery Time  Sorting Time\n",
       "0           21.00          10.0\n",
       "1           13.50           4.0\n",
       "2           19.75           6.0\n",
       "3           24.00           9.0\n",
       "4           29.00          10.0\n",
       "5           15.35           6.0\n",
       "6           19.00           7.0\n",
       "7            9.50           3.0\n",
       "8           17.90          10.0\n",
       "9           18.75           9.0\n",
       "10          19.83           8.0\n",
       "11          10.75           4.0\n",
       "12          16.68           7.0\n",
       "13          11.50           3.0\n",
       "14          12.03           3.0\n",
       "15          14.88           4.0\n",
       "16          13.75           6.0\n",
       "17          18.11           7.0\n",
       "18           8.00           2.0\n",
       "19          17.83           7.0\n",
       "20          21.50           5.0"
      ]
     },
     "execution_count": 7,
     "metadata": {},
     "output_type": "execute_result"
    }
   ],
   "source": [
    "DT"
   ]
  },
  {
   "cell_type": "code",
   "execution_count": 8,
   "id": "e2e19246",
   "metadata": {},
   "outputs": [
    {
     "name": "stdout",
     "output_type": "stream",
     "text": [
      "<class 'pandas.core.frame.DataFrame'>\n",
      "RangeIndex: 21 entries, 0 to 20\n",
      "Data columns (total 2 columns):\n",
      " #   Column         Non-Null Count  Dtype  \n",
      "---  ------         --------------  -----  \n",
      " 0   Delivery Time  21 non-null     float64\n",
      " 1   Sorting Time   21 non-null     float64\n",
      "dtypes: float64(2)\n",
      "memory usage: 464.0 bytes\n"
     ]
    }
   ],
   "source": [
    "DT.info()"
   ]
  },
  {
   "cell_type": "code",
   "execution_count": 9,
   "id": "829bcf17",
   "metadata": {},
   "outputs": [
    {
     "data": {
      "text/plain": [
       "Delivery Time    0\n",
       "Sorting Time     0\n",
       "dtype: int64"
      ]
     },
     "execution_count": 9,
     "metadata": {},
     "output_type": "execute_result"
    }
   ],
   "source": [
    "#checking for any missing values\n",
    "DT.isnull().sum()"
   ]
  },
  {
   "cell_type": "code",
   "execution_count": 10,
   "id": "4b47b86e",
   "metadata": {},
   "outputs": [
    {
     "data": {
      "text/plain": [
       "<seaborn.axisgrid.FacetGrid at 0x19f18f2ff10>"
      ]
     },
     "execution_count": 10,
     "metadata": {},
     "output_type": "execute_result"
    },
    {
     "data": {
      "image/png": "[encoded data removed]",
      "text/plain": [
       "<Figure size 360x360 with 1 Axes>"
      ]
     },
     "metadata": {
      "needs_background": "light"
     },
     "output_type": "display_data"
    }
   ],
   "source": [
    "sns.displot(DT['Sorting Time'])"
   ]
  },
  {
   "cell_type": "code",
   "execution_count": 11,
   "id": "83c84804",
   "metadata": {},
   "outputs": [
    {
     "data": {
      "text/plain": [
       "<seaborn.axisgrid.FacetGrid at 0x19f1a721c10>"
      ]
     },
     "execution_count": 11,
     "metadata": {},
     "output_type": "execute_result"
    },
    {
     "data": {
      "image/png": "[encoded data removed]",
      "text/plain": [
       "<Figure size 360x360 with 1 Axes>"
      ]
     },
     "metadata": {
      "needs_background": "light"
     },
     "output_type": "display_data"
    }
   ],
   "source": [
    "sns.displot(DT['Delivery Time'])"
   ]
  },
  {
   "cell_type": "code",
   "execution_count": 12,
   "id": "57f06d5d",
   "metadata": {},
   "outputs": [
    {
     "data": {
      "text/plain": [
       "<AxesSubplot:xlabel='Sorting Time', ylabel='Delivery Time'>"
      ]
     },
     "execution_count": 12,
     "metadata": {},
     "output_type": "execute_result"
    },
    {
     "data": {
      "image/png": "[encoded data removed]",
      "text/plain": [
       "<Figure size 432x288 with 1 Axes>"
      ]
     },
     "metadata": {
      "needs_background": "light"
     },
     "output_type": "display_data"
    }
   ],
   "source": [
    "#Checking relation between dependant and independant variables\n",
    "# Sorting Time is the independant variable while Delivery Time is the dependant variable\n",
    "sns.scatterplot(x = 'Sorting Time' , y = 'Delivery Time' , data = DT)"
   ]
  },
  {
   "cell_type": "code",
   "execution_count": 13,
   "id": "3b2eb2d3",
   "metadata": {},
   "outputs": [],
   "source": [
    "# Renaming the columns to make it shorter for the ease of making the model"
   ]
  },
  {
   "cell_type": "code",
   "execution_count": 14,
   "id": "12eeac2f",
   "metadata": {},
   "outputs": [],
   "source": [
    "DT = DT.rename({'Delivery Time':'DelTime'} , axis =1)"
   ]
  },
  {
   "cell_type": "code",
   "execution_count": 15,
   "id": "cb73fedb",
   "metadata": {},
   "outputs": [],
   "source": [
    "DT = DT.rename({'Sorting Time':'SortTime'} , axis =1)"
   ]
  },
  {
   "cell_type": "code",
   "execution_count": 16,
   "id": "5af36d2d",
   "metadata": {},
   "outputs": [
    {
     "data": {
      "text/html": [
       "<div>\n",
       "<style scoped>\n",
       "    .dataframe tbody tr th:only-of-type {\n",
       "        vertical-align: middle;\n",
       "    }\n",
       "\n",
       "    .dataframe tbody tr th {\n",
       "        vertical-align: top;\n",
       "    }\n",
       "\n",
       "    .dataframe thead th {\n",
       "        text-align: right;\n",
       "    }\n",
       "</style>\n",
       "<table border=\"1\" class=\"dataframe\">\n",
       "  <thead>\n",
       "    <tr style=\"text-align: right;\">\n",
       "      <th></th>\n",
       "      <th>DelTime</th>\n",
       "      <th>SortTime</th>\n",
       "    </tr>\n",
       "  </thead>\n",
       "  <tbody>\n",
       "    <tr>\n",
       "      <th>0</th>\n",
       "      <td>21.00</td>\n",
       "      <td>10.0</td>\n",
       "    </tr>\n",
       "    <tr>\n",
       "      <th>1</th>\n",
       "      <td>13.50</td>\n",
       "      <td>4.0</td>\n",
       "    </tr>\n",
       "    <tr>\n",
       "      <th>2</th>\n",
       "      <td>19.75</td>\n",
       "      <td>6.0</td>\n",
       "    </tr>\n",
       "    <tr>\n",
       "      <th>3</th>\n",
       "      <td>24.00</td>\n",
       "      <td>9.0</td>\n",
       "    </tr>\n",
       "    <tr>\n",
       "      <th>4</th>\n",
       "      <td>29.00</td>\n",
       "      <td>10.0</td>\n",
       "    </tr>\n",
       "    <tr>\n",
       "      <th>5</th>\n",
       "      <td>15.35</td>\n",
       "      <td>6.0</td>\n",
       "    </tr>\n",
       "    <tr>\n",
       "      <th>6</th>\n",
       "      <td>19.00</td>\n",
       "      <td>7.0</td>\n",
       "    </tr>\n",
       "    <tr>\n",
       "      <th>7</th>\n",
       "      <td>9.50</td>\n",
       "      <td>3.0</td>\n",
       "    </tr>\n",
       "    <tr>\n",
       "      <th>8</th>\n",
       "      <td>17.90</td>\n",
       "      <td>10.0</td>\n",
       "    </tr>\n",
       "    <tr>\n",
       "      <th>9</th>\n",
       "      <td>18.75</td>\n",
       "      <td>9.0</td>\n",
       "    </tr>\n",
       "    <tr>\n",
       "      <th>10</th>\n",
       "      <td>19.83</td>\n",
       "      <td>8.0</td>\n",
       "    </tr>\n",
       "    <tr>\n",
       "      <th>11</th>\n",
       "      <td>10.75</td>\n",
       "      <td>4.0</td>\n",
       "    </tr>\n",
       "    <tr>\n",
       "      <th>12</th>\n",
       "      <td>16.68</td>\n",
       "      <td>7.0</td>\n",
       "    </tr>\n",
       "    <tr>\n",
       "      <th>13</th>\n",
       "      <td>11.50</td>\n",
       "      <td>3.0</td>\n",
       "    </tr>\n",
       "    <tr>\n",
       "      <th>14</th>\n",
       "      <td>12.03</td>\n",
       "      <td>3.0</td>\n",
       "    </tr>\n",
       "    <tr>\n",
       "      <th>15</th>\n",
       "      <td>14.88</td>\n",
       "      <td>4.0</td>\n",
       "    </tr>\n",
       "    <tr>\n",
       "      <th>16</th>\n",
       "      <td>13.75</td>\n",
       "      <td>6.0</td>\n",
       "    </tr>\n",
       "    <tr>\n",
       "      <th>17</th>\n",
       "      <td>18.11</td>\n",
       "      <td>7.0</td>\n",
       "    </tr>\n",
       "    <tr>\n",
       "      <th>18</th>\n",
       "      <td>8.00</td>\n",
       "      <td>2.0</td>\n",
       "    </tr>\n",
       "    <tr>\n",
       "      <th>19</th>\n",
       "      <td>17.83</td>\n",
       "      <td>7.0</td>\n",
       "    </tr>\n",
       "    <tr>\n",
       "      <th>20</th>\n",
       "      <td>21.50</td>\n",
       "      <td>5.0</td>\n",
       "    </tr>\n",
       "  </tbody>\n",
       "</table>\n",
       "</div>"
      ],
      "text/plain": [
       "    DelTime  SortTime\n",
       "0     21.00      10.0\n",
       "1     13.50       4.0\n",
       "2     19.75       6.0\n",
       "3     24.00       9.0\n",
       "4     29.00      10.0\n",
       "5     15.35       6.0\n",
       "6     19.00       7.0\n",
       "7      9.50       3.0\n",
       "8     17.90      10.0\n",
       "9     18.75       9.0\n",
       "10    19.83       8.0\n",
       "11    10.75       4.0\n",
       "12    16.68       7.0\n",
       "13    11.50       3.0\n",
       "14    12.03       3.0\n",
       "15    14.88       4.0\n",
       "16    13.75       6.0\n",
       "17    18.11       7.0\n",
       "18     8.00       2.0\n",
       "19    17.83       7.0\n",
       "20    21.50       5.0"
      ]
     },
     "execution_count": 16,
     "metadata": {},
     "output_type": "execute_result"
    }
   ],
   "source": [
    "DT"
   ]
  },
  {
   "cell_type": "code",
   "execution_count": 17,
   "id": "d6df0856",
   "metadata": {},
   "outputs": [
    {
     "data": {
      "text/html": [
       "<div>\n",
       "<style scoped>\n",
       "    .dataframe tbody tr th:only-of-type {\n",
       "        vertical-align: middle;\n",
       "    }\n",
       "\n",
       "    .dataframe tbody tr th {\n",
       "        vertical-align: top;\n",
       "    }\n",
       "\n",
       "    .dataframe thead th {\n",
       "        text-align: right;\n",
       "    }\n",
       "</style>\n",
       "<table border=\"1\" class=\"dataframe\">\n",
       "  <thead>\n",
       "    <tr style=\"text-align: right;\">\n",
       "      <th></th>\n",
       "      <th>DelTime</th>\n",
       "      <th>SortTime</th>\n",
       "    </tr>\n",
       "  </thead>\n",
       "  <tbody>\n",
       "    <tr>\n",
       "      <th>DelTime</th>\n",
       "      <td>1.000000</td>\n",
       "      <td>0.825997</td>\n",
       "    </tr>\n",
       "    <tr>\n",
       "      <th>SortTime</th>\n",
       "      <td>0.825997</td>\n",
       "      <td>1.000000</td>\n",
       "    </tr>\n",
       "  </tbody>\n",
       "</table>\n",
       "</div>"
      ],
      "text/plain": [
       "           DelTime  SortTime\n",
       "DelTime   1.000000  0.825997\n",
       "SortTime  0.825997  1.000000"
      ]
     },
     "execution_count": 17,
     "metadata": {},
     "output_type": "execute_result"
    }
   ],
   "source": [
    "DT.corr()"
   ]
  },
  {
   "cell_type": "code",
   "execution_count": 18,
   "id": "45498884",
   "metadata": {},
   "outputs": [],
   "source": [
    "# Making the model"
   ]
  },
  {
   "cell_type": "markdown",
   "id": "f137162b",
   "metadata": {},
   "source": [
    "Model 1"
   ]
  },
  {
   "cell_type": "code",
   "execution_count": 19,
   "id": "89a5d4ab",
   "metadata": {},
   "outputs": [],
   "source": [
    "model = smf.ols(\"DelTime~SortTime\" , data = DT).fit()"
   ]
  },
  {
   "cell_type": "code",
   "execution_count": 20,
   "id": "feafc19a",
   "metadata": {},
   "outputs": [
    {
     "data": {
      "text/plain": [
       "<AxesSubplot:xlabel='SortTime', ylabel='DelTime'>"
      ]
     },
     "execution_count": 20,
     "metadata": {},
     "output_type": "execute_result"
    },
    {
     "data": {
      "image/png": "[encoded data removed]",
      "text/plain": [
       "<Figure size 432x288 with 1 Axes>"
      ]
     },
     "metadata": {
      "needs_background": "light"
     },
     "output_type": "display_data"
    }
   ],
   "source": [
    "sns.regplot(x = 'SortTime' , y = 'DelTime' , data = DT)"
   ]
  },
  {
   "cell_type": "code",
   "execution_count": 21,
   "id": "817c0813",
   "metadata": {},
   "outputs": [],
   "source": [
    "# Testing the model"
   ]
  },
  {
   "cell_type": "code",
   "execution_count": 22,
   "id": "dcf161cf",
   "metadata": {},
   "outputs": [
    {
     "data": {
      "text/plain": [
       "0.6822714748417231"
      ]
     },
     "execution_count": 22,
     "metadata": {},
     "output_type": "execute_result"
    }
   ],
   "source": [
    "model.rsquared"
   ]
  },
  {
   "cell_type": "code",
   "execution_count": 23,
   "id": "3f6567ca",
   "metadata": {},
   "outputs": [
    {
     "data": {
      "text/plain": [
       "Intercept    6.582734\n",
       "SortTime     1.649020\n",
       "dtype: float64"
      ]
     },
     "execution_count": 23,
     "metadata": {},
     "output_type": "execute_result"
    }
   ],
   "source": [
    "model.params"
   ]
  },
  {
   "cell_type": "code",
   "execution_count": 24,
   "id": "99f84483",
   "metadata": {},
   "outputs": [
    {
     "data": {
      "text/plain": [
       "Intercept    0.001147\n",
       "SortTime     0.000004\n",
       "dtype: float64"
      ]
     },
     "execution_count": 24,
     "metadata": {},
     "output_type": "execute_result"
    }
   ],
   "source": [
    "model.pvalues"
   ]
  },
  {
   "cell_type": "code",
   "execution_count": 25,
   "id": "8e635fef",
   "metadata": {},
   "outputs": [
    {
     "data": {
      "text/plain": [
       "0     23.072933\n",
       "1     13.178814\n",
       "2     16.476853\n",
       "3     21.423913\n",
       "4     23.072933\n",
       "5     16.476853\n",
       "6     18.125873\n",
       "7     11.529794\n",
       "8     23.072933\n",
       "9     21.423913\n",
       "10    19.774893\n",
       "11    13.178814\n",
       "12    18.125873\n",
       "13    11.529794\n",
       "14    11.529794\n",
       "15    13.178814\n",
       "16    16.476853\n",
       "17    18.125873\n",
       "18     9.880774\n",
       "19    18.125873\n",
       "20    14.827833\n",
       "dtype: float64"
      ]
     },
     "execution_count": 25,
     "metadata": {},
     "output_type": "execute_result"
    }
   ],
   "source": [
    "# Predicted values\n",
    "model.fittedvalues"
   ]
  },
  {
   "cell_type": "code",
   "execution_count": 26,
   "id": "8c4cf575",
   "metadata": {},
   "outputs": [],
   "source": [
    "DT['Predicted'] = model.fittedvalues"
   ]
  },
  {
   "cell_type": "code",
   "execution_count": 27,
   "id": "806ea7e5",
   "metadata": {},
   "outputs": [
    {
     "data": {
      "text/html": [
       "<div>\n",
       "<style scoped>\n",
       "    .dataframe tbody tr th:only-of-type {\n",
       "        vertical-align: middle;\n",
       "    }\n",
       "\n",
       "    .dataframe tbody tr th {\n",
       "        vertical-align: top;\n",
       "    }\n",
       "\n",
       "    .dataframe thead th {\n",
       "        text-align: right;\n",
       "    }\n",
       "</style>\n",
       "<table border=\"1\" class=\"dataframe\">\n",
       "  <thead>\n",
       "    <tr style=\"text-align: right;\">\n",
       "      <th></th>\n",
       "      <th>DelTime</th>\n",
       "      <th>SortTime</th>\n",
       "      <th>Predicted</th>\n",
       "    </tr>\n",
       "  </thead>\n",
       "  <tbody>\n",
       "    <tr>\n",
       "      <th>0</th>\n",
       "      <td>21.00</td>\n",
       "      <td>10.0</td>\n",
       "      <td>23.072933</td>\n",
       "    </tr>\n",
       "    <tr>\n",
       "      <th>1</th>\n",
       "      <td>13.50</td>\n",
       "      <td>4.0</td>\n",
       "      <td>13.178814</td>\n",
       "    </tr>\n",
       "    <tr>\n",
       "      <th>2</th>\n",
       "      <td>19.75</td>\n",
       "      <td>6.0</td>\n",
       "      <td>16.476853</td>\n",
       "    </tr>\n",
       "    <tr>\n",
       "      <th>3</th>\n",
       "      <td>24.00</td>\n",
       "      <td>9.0</td>\n",
       "      <td>21.423913</td>\n",
       "    </tr>\n",
       "    <tr>\n",
       "      <th>4</th>\n",
       "      <td>29.00</td>\n",
       "      <td>10.0</td>\n",
       "      <td>23.072933</td>\n",
       "    </tr>\n",
       "    <tr>\n",
       "      <th>5</th>\n",
       "      <td>15.35</td>\n",
       "      <td>6.0</td>\n",
       "      <td>16.476853</td>\n",
       "    </tr>\n",
       "    <tr>\n",
       "      <th>6</th>\n",
       "      <td>19.00</td>\n",
       "      <td>7.0</td>\n",
       "      <td>18.125873</td>\n",
       "    </tr>\n",
       "    <tr>\n",
       "      <th>7</th>\n",
       "      <td>9.50</td>\n",
       "      <td>3.0</td>\n",
       "      <td>11.529794</td>\n",
       "    </tr>\n",
       "    <tr>\n",
       "      <th>8</th>\n",
       "      <td>17.90</td>\n",
       "      <td>10.0</td>\n",
       "      <td>23.072933</td>\n",
       "    </tr>\n",
       "    <tr>\n",
       "      <th>9</th>\n",
       "      <td>18.75</td>\n",
       "      <td>9.0</td>\n",
       "      <td>21.423913</td>\n",
       "    </tr>\n",
       "    <tr>\n",
       "      <th>10</th>\n",
       "      <td>19.83</td>\n",
       "      <td>8.0</td>\n",
       "      <td>19.774893</td>\n",
       "    </tr>\n",
       "    <tr>\n",
       "      <th>11</th>\n",
       "      <td>10.75</td>\n",
       "      <td>4.0</td>\n",
       "      <td>13.178814</td>\n",
       "    </tr>\n",
       "    <tr>\n",
       "      <th>12</th>\n",
       "      <td>16.68</td>\n",
       "      <td>7.0</td>\n",
       "      <td>18.125873</td>\n",
       "    </tr>\n",
       "    <tr>\n",
       "      <th>13</th>\n",
       "      <td>11.50</td>\n",
       "      <td>3.0</td>\n",
       "      <td>11.529794</td>\n",
       "    </tr>\n",
       "    <tr>\n",
       "      <th>14</th>\n",
       "      <td>12.03</td>\n",
       "      <td>3.0</td>\n",
       "      <td>11.529794</td>\n",
       "    </tr>\n",
       "    <tr>\n",
       "      <th>15</th>\n",
       "      <td>14.88</td>\n",
       "      <td>4.0</td>\n",
       "      <td>13.178814</td>\n",
       "    </tr>\n",
       "    <tr>\n",
       "      <th>16</th>\n",
       "      <td>13.75</td>\n",
       "      <td>6.0</td>\n",
       "      <td>16.476853</td>\n",
       "    </tr>\n",
       "    <tr>\n",
       "      <th>17</th>\n",
       "      <td>18.11</td>\n",
       "      <td>7.0</td>\n",
       "      <td>18.125873</td>\n",
       "    </tr>\n",
       "    <tr>\n",
       "      <th>18</th>\n",
       "      <td>8.00</td>\n",
       "      <td>2.0</td>\n",
       "      <td>9.880774</td>\n",
       "    </tr>\n",
       "    <tr>\n",
       "      <th>19</th>\n",
       "      <td>17.83</td>\n",
       "      <td>7.0</td>\n",
       "      <td>18.125873</td>\n",
       "    </tr>\n",
       "    <tr>\n",
       "      <th>20</th>\n",
       "      <td>21.50</td>\n",
       "      <td>5.0</td>\n",
       "      <td>14.827833</td>\n",
       "    </tr>\n",
       "  </tbody>\n",
       "</table>\n",
       "</div>"
      ],
      "text/plain": [
       "    DelTime  SortTime  Predicted\n",
       "0     21.00      10.0  23.072933\n",
       "1     13.50       4.0  13.178814\n",
       "2     19.75       6.0  16.476853\n",
       "3     24.00       9.0  21.423913\n",
       "4     29.00      10.0  23.072933\n",
       "5     15.35       6.0  16.476853\n",
       "6     19.00       7.0  18.125873\n",
       "7      9.50       3.0  11.529794\n",
       "8     17.90      10.0  23.072933\n",
       "9     18.75       9.0  21.423913\n",
       "10    19.83       8.0  19.774893\n",
       "11    10.75       4.0  13.178814\n",
       "12    16.68       7.0  18.125873\n",
       "13    11.50       3.0  11.529794\n",
       "14    12.03       3.0  11.529794\n",
       "15    14.88       4.0  13.178814\n",
       "16    13.75       6.0  16.476853\n",
       "17    18.11       7.0  18.125873\n",
       "18     8.00       2.0   9.880774\n",
       "19    17.83       7.0  18.125873\n",
       "20    21.50       5.0  14.827833"
      ]
     },
     "execution_count": 27,
     "metadata": {},
     "output_type": "execute_result"
    }
   ],
   "source": [
    "DT"
   ]
  },
  {
   "cell_type": "code",
   "execution_count": 28,
   "id": "c74f0bc7",
   "metadata": {},
   "outputs": [],
   "source": [
    "Error = DT['Predicted']-DT['DelTime']"
   ]
  },
  {
   "cell_type": "code",
   "execution_count": 29,
   "id": "fc632580",
   "metadata": {},
   "outputs": [],
   "source": [
    "DT['Error'] = Error"
   ]
  },
  {
   "cell_type": "code",
   "execution_count": 30,
   "id": "42c48547",
   "metadata": {},
   "outputs": [
    {
     "data": {
      "text/html": [
       "<div>\n",
       "<style scoped>\n",
       "    .dataframe tbody tr th:only-of-type {\n",
       "        vertical-align: middle;\n",
       "    }\n",
       "\n",
       "    .dataframe tbody tr th {\n",
       "        vertical-align: top;\n",
       "    }\n",
       "\n",
       "    .dataframe thead th {\n",
       "        text-align: right;\n",
       "    }\n",
       "</style>\n",
       "<table border=\"1\" class=\"dataframe\">\n",
       "  <thead>\n",
       "    <tr style=\"text-align: right;\">\n",
       "      <th></th>\n",
       "      <th>DelTime</th>\n",
       "      <th>SortTime</th>\n",
       "      <th>Predicted</th>\n",
       "      <th>Error</th>\n",
       "    </tr>\n",
       "  </thead>\n",
       "  <tbody>\n",
       "    <tr>\n",
       "      <th>0</th>\n",
       "      <td>21.00</td>\n",
       "      <td>10.0</td>\n",
       "      <td>23.072933</td>\n",
       "      <td>2.072933</td>\n",
       "    </tr>\n",
       "    <tr>\n",
       "      <th>1</th>\n",
       "      <td>13.50</td>\n",
       "      <td>4.0</td>\n",
       "      <td>13.178814</td>\n",
       "      <td>-0.321186</td>\n",
       "    </tr>\n",
       "    <tr>\n",
       "      <th>2</th>\n",
       "      <td>19.75</td>\n",
       "      <td>6.0</td>\n",
       "      <td>16.476853</td>\n",
       "      <td>-3.273147</td>\n",
       "    </tr>\n",
       "    <tr>\n",
       "      <th>3</th>\n",
       "      <td>24.00</td>\n",
       "      <td>9.0</td>\n",
       "      <td>21.423913</td>\n",
       "      <td>-2.576087</td>\n",
       "    </tr>\n",
       "    <tr>\n",
       "      <th>4</th>\n",
       "      <td>29.00</td>\n",
       "      <td>10.0</td>\n",
       "      <td>23.072933</td>\n",
       "      <td>-5.927067</td>\n",
       "    </tr>\n",
       "    <tr>\n",
       "      <th>5</th>\n",
       "      <td>15.35</td>\n",
       "      <td>6.0</td>\n",
       "      <td>16.476853</td>\n",
       "      <td>1.126853</td>\n",
       "    </tr>\n",
       "    <tr>\n",
       "      <th>6</th>\n",
       "      <td>19.00</td>\n",
       "      <td>7.0</td>\n",
       "      <td>18.125873</td>\n",
       "      <td>-0.874127</td>\n",
       "    </tr>\n",
       "    <tr>\n",
       "      <th>7</th>\n",
       "      <td>9.50</td>\n",
       "      <td>3.0</td>\n",
       "      <td>11.529794</td>\n",
       "      <td>2.029794</td>\n",
       "    </tr>\n",
       "    <tr>\n",
       "      <th>8</th>\n",
       "      <td>17.90</td>\n",
       "      <td>10.0</td>\n",
       "      <td>23.072933</td>\n",
       "      <td>5.172933</td>\n",
       "    </tr>\n",
       "    <tr>\n",
       "      <th>9</th>\n",
       "      <td>18.75</td>\n",
       "      <td>9.0</td>\n",
       "      <td>21.423913</td>\n",
       "      <td>2.673913</td>\n",
       "    </tr>\n",
       "    <tr>\n",
       "      <th>10</th>\n",
       "      <td>19.83</td>\n",
       "      <td>8.0</td>\n",
       "      <td>19.774893</td>\n",
       "      <td>-0.055107</td>\n",
       "    </tr>\n",
       "    <tr>\n",
       "      <th>11</th>\n",
       "      <td>10.75</td>\n",
       "      <td>4.0</td>\n",
       "      <td>13.178814</td>\n",
       "      <td>2.428814</td>\n",
       "    </tr>\n",
       "    <tr>\n",
       "      <th>12</th>\n",
       "      <td>16.68</td>\n",
       "      <td>7.0</td>\n",
       "      <td>18.125873</td>\n",
       "      <td>1.445873</td>\n",
       "    </tr>\n",
       "    <tr>\n",
       "      <th>13</th>\n",
       "      <td>11.50</td>\n",
       "      <td>3.0</td>\n",
       "      <td>11.529794</td>\n",
       "      <td>0.029794</td>\n",
       "    </tr>\n",
       "    <tr>\n",
       "      <th>14</th>\n",
       "      <td>12.03</td>\n",
       "      <td>3.0</td>\n",
       "      <td>11.529794</td>\n",
       "      <td>-0.500206</td>\n",
       "    </tr>\n",
       "    <tr>\n",
       "      <th>15</th>\n",
       "      <td>14.88</td>\n",
       "      <td>4.0</td>\n",
       "      <td>13.178814</td>\n",
       "      <td>-1.701186</td>\n",
       "    </tr>\n",
       "    <tr>\n",
       "      <th>16</th>\n",
       "      <td>13.75</td>\n",
       "      <td>6.0</td>\n",
       "      <td>16.476853</td>\n",
       "      <td>2.726853</td>\n",
       "    </tr>\n",
       "    <tr>\n",
       "      <th>17</th>\n",
       "      <td>18.11</td>\n",
       "      <td>7.0</td>\n",
       "      <td>18.125873</td>\n",
       "      <td>0.015873</td>\n",
       "    </tr>\n",
       "    <tr>\n",
       "      <th>18</th>\n",
       "      <td>8.00</td>\n",
       "      <td>2.0</td>\n",
       "      <td>9.880774</td>\n",
       "      <td>1.880774</td>\n",
       "    </tr>\n",
       "    <tr>\n",
       "      <th>19</th>\n",
       "      <td>17.83</td>\n",
       "      <td>7.0</td>\n",
       "      <td>18.125873</td>\n",
       "      <td>0.295873</td>\n",
       "    </tr>\n",
       "    <tr>\n",
       "      <th>20</th>\n",
       "      <td>21.50</td>\n",
       "      <td>5.0</td>\n",
       "      <td>14.827833</td>\n",
       "      <td>-6.672167</td>\n",
       "    </tr>\n",
       "  </tbody>\n",
       "</table>\n",
       "</div>"
      ],
      "text/plain": [
       "    DelTime  SortTime  Predicted     Error\n",
       "0     21.00      10.0  23.072933  2.072933\n",
       "1     13.50       4.0  13.178814 -0.321186\n",
       "2     19.75       6.0  16.476853 -3.273147\n",
       "3     24.00       9.0  21.423913 -2.576087\n",
       "4     29.00      10.0  23.072933 -5.927067\n",
       "5     15.35       6.0  16.476853  1.126853\n",
       "6     19.00       7.0  18.125873 -0.874127\n",
       "7      9.50       3.0  11.529794  2.029794\n",
       "8     17.90      10.0  23.072933  5.172933\n",
       "9     18.75       9.0  21.423913  2.673913\n",
       "10    19.83       8.0  19.774893 -0.055107\n",
       "11    10.75       4.0  13.178814  2.428814\n",
       "12    16.68       7.0  18.125873  1.445873\n",
       "13    11.50       3.0  11.529794  0.029794\n",
       "14    12.03       3.0  11.529794 -0.500206\n",
       "15    14.88       4.0  13.178814 -1.701186\n",
       "16    13.75       6.0  16.476853  2.726853\n",
       "17    18.11       7.0  18.125873  0.015873\n",
       "18     8.00       2.0   9.880774  1.880774\n",
       "19    17.83       7.0  18.125873  0.295873\n",
       "20    21.50       5.0  14.827833 -6.672167"
      ]
     },
     "execution_count": 30,
     "metadata": {},
     "output_type": "execute_result"
    }
   ],
   "source": [
    "DT"
   ]
  },
  {
   "cell_type": "code",
   "execution_count": 31,
   "id": "5702b9de",
   "metadata": {},
   "outputs": [],
   "source": [
    "# model transformations"
   ]
  },
  {
   "cell_type": "markdown",
   "id": "9884422d",
   "metadata": {},
   "source": [
    "Model 2"
   ]
  },
  {
   "cell_type": "code",
   "execution_count": 32,
   "id": "4233e5a8",
   "metadata": {},
   "outputs": [],
   "source": [
    "sqx = np.sqrt(DT['SortTime'])"
   ]
  },
  {
   "cell_type": "code",
   "execution_count": 33,
   "id": "e1fdf94c",
   "metadata": {},
   "outputs": [
    {
     "data": {
      "text/plain": [
       "0     3.162278\n",
       "1     2.000000\n",
       "2     2.449490\n",
       "3     3.000000\n",
       "4     3.162278\n",
       "5     2.449490\n",
       "6     2.645751\n",
       "7     1.732051\n",
       "8     3.162278\n",
       "9     3.000000\n",
       "10    2.828427\n",
       "11    2.000000\n",
       "12    2.645751\n",
       "13    1.732051\n",
       "14    1.732051\n",
       "15    2.000000\n",
       "16    2.449490\n",
       "17    2.645751\n",
       "18    1.414214\n",
       "19    2.645751\n",
       "20    2.236068\n",
       "Name: SortTime, dtype: float64"
      ]
     },
     "execution_count": 33,
     "metadata": {},
     "output_type": "execute_result"
    }
   ],
   "source": [
    "sqx"
   ]
  },
  {
   "cell_type": "code",
   "execution_count": 34,
   "id": "d6392a86",
   "metadata": {},
   "outputs": [],
   "source": [
    "model = smf.ols(\"DelTime~sqx\" , data = DT).fit()"
   ]
  },
  {
   "cell_type": "code",
   "execution_count": 35,
   "id": "472513cf",
   "metadata": {},
   "outputs": [
    {
     "data": {
      "text/plain": [
       "0.695806227630867"
      ]
     },
     "execution_count": 35,
     "metadata": {},
     "output_type": "execute_result"
    }
   ],
   "source": [
    "model.rsquared"
   ]
  },
  {
   "cell_type": "markdown",
   "id": "a533d312",
   "metadata": {},
   "source": [
    "Model 3"
   ]
  },
  {
   "cell_type": "code",
   "execution_count": 36,
   "id": "16a9852d",
   "metadata": {},
   "outputs": [],
   "source": [
    "sq_y = np.sqrt(DT['DelTime'])"
   ]
  },
  {
   "cell_type": "code",
   "execution_count": 37,
   "id": "03f27f23",
   "metadata": {},
   "outputs": [
    {
     "data": {
      "text/plain": [
       "0     4.582576\n",
       "1     3.674235\n",
       "2     4.444097\n",
       "3     4.898979\n",
       "4     5.385165\n",
       "5     3.917908\n",
       "6     4.358899\n",
       "7     3.082207\n",
       "8     4.230839\n",
       "9     4.330127\n",
       "10    4.453089\n",
       "11    3.278719\n",
       "12    4.084116\n",
       "13    3.391165\n",
       "14    3.468429\n",
       "15    3.857460\n",
       "16    3.708099\n",
       "17    4.255585\n",
       "18    2.828427\n",
       "19    4.222558\n",
       "20    4.636809\n",
       "Name: DelTime, dtype: float64"
      ]
     },
     "execution_count": 37,
     "metadata": {},
     "output_type": "execute_result"
    }
   ],
   "source": [
    "sq_y"
   ]
  },
  {
   "cell_type": "code",
   "execution_count": 38,
   "id": "93e56989",
   "metadata": {},
   "outputs": [],
   "source": [
    "model = smf.ols(\"sq_y~SortTime\" , data = DT).fit()"
   ]
  },
  {
   "cell_type": "code",
   "execution_count": 39,
   "id": "8597156b",
   "metadata": {},
   "outputs": [
    {
     "data": {
      "text/plain": [
       "0.704049871541756"
      ]
     },
     "execution_count": 39,
     "metadata": {},
     "output_type": "execute_result"
    }
   ],
   "source": [
    "model.rsquared"
   ]
  },
  {
   "cell_type": "markdown",
   "id": "8ee27f01",
   "metadata": {},
   "source": [
    "Model 4"
   ]
  },
  {
   "cell_type": "code",
   "execution_count": 44,
   "id": "0e98430a",
   "metadata": {},
   "outputs": [],
   "source": [
    "log_x = np.log(DT['SortTime'])"
   ]
  },
  {
   "cell_type": "code",
   "execution_count": 45,
   "id": "215c3e1b",
   "metadata": {},
   "outputs": [
    {
     "data": {
      "text/plain": [
       "0     2.302585\n",
       "1     1.386294\n",
       "2     1.791759\n",
       "3     2.197225\n",
       "4     2.302585\n",
       "5     1.791759\n",
       "6     1.945910\n",
       "7     1.098612\n",
       "8     2.302585\n",
       "9     2.197225\n",
       "10    2.079442\n",
       "11    1.386294\n",
       "12    1.945910\n",
       "13    1.098612\n",
       "14    1.098612\n",
       "15    1.386294\n",
       "16    1.791759\n",
       "17    1.945910\n",
       "18    0.693147\n",
       "19    1.945910\n",
       "20    1.609438\n",
       "Name: SortTime, dtype: float64"
      ]
     },
     "execution_count": 45,
     "metadata": {},
     "output_type": "execute_result"
    }
   ],
   "source": [
    "log_x"
   ]
  },
  {
   "cell_type": "code",
   "execution_count": 46,
   "id": "0b7cec8f",
   "metadata": {},
   "outputs": [],
   "source": [
    "model = smf.ols(\"DelTime~log_x\" , data = DT).fit()"
   ]
  },
  {
   "cell_type": "code",
   "execution_count": 47,
   "id": "30376249",
   "metadata": {},
   "outputs": [
    {
     "data": {
      "text/plain": [
       "0.6954434611324223"
      ]
     },
     "execution_count": 47,
     "metadata": {},
     "output_type": "execute_result"
    }
   ],
   "source": [
    "model.rsquared"
   ]
  },
  {
   "cell_type": "markdown",
   "id": "cc2f6c6a",
   "metadata": {},
   "source": [
    "Model 5"
   ]
  },
  {
   "cell_type": "code",
   "execution_count": 48,
   "id": "6a50b593",
   "metadata": {},
   "outputs": [],
   "source": [
    "log_y = np.log(DT['DelTime'])"
   ]
  },
  {
   "cell_type": "code",
   "execution_count": 49,
   "id": "9bed48b3",
   "metadata": {},
   "outputs": [
    {
     "data": {
      "text/plain": [
       "0     3.044522\n",
       "1     2.602690\n",
       "2     2.983153\n",
       "3     3.178054\n",
       "4     3.367296\n",
       "5     2.731115\n",
       "6     2.944439\n",
       "7     2.251292\n",
       "8     2.884801\n",
       "9     2.931194\n",
       "10    2.987196\n",
       "11    2.374906\n",
       "12    2.814210\n",
       "13    2.442347\n",
       "14    2.487404\n",
       "15    2.700018\n",
       "16    2.621039\n",
       "17    2.896464\n",
       "18    2.079442\n",
       "19    2.880882\n",
       "20    3.068053\n",
       "Name: DelTime, dtype: float64"
      ]
     },
     "execution_count": 49,
     "metadata": {},
     "output_type": "execute_result"
    }
   ],
   "source": [
    "log_y"
   ]
  },
  {
   "cell_type": "code",
   "execution_count": 50,
   "id": "3563d22a",
   "metadata": {},
   "outputs": [],
   "source": [
    "model = smf.ols(\"log_y~SortTime\" , data = DT).fit()"
   ]
  },
  {
   "cell_type": "code",
   "execution_count": 51,
   "id": "dad9914e",
   "metadata": {},
   "outputs": [
    {
     "data": {
      "text/plain": [
       "0.7109478980584187"
      ]
     },
     "execution_count": 51,
     "metadata": {},
     "output_type": "execute_result"
    }
   ],
   "source": [
    "model.rsquared"
   ]
  },
  {
   "cell_type": "markdown",
   "id": "03ce817e",
   "metadata": {},
   "source": [
    "Model 6"
   ]
  },
  {
   "cell_type": "code",
   "execution_count": 52,
   "id": "5b97a590",
   "metadata": {},
   "outputs": [],
   "source": [
    "model = smf.ols(\"log_y~log_x\" , data = DT).fit()"
   ]
  },
  {
   "cell_type": "code",
   "execution_count": 53,
   "id": "edd64e10",
   "metadata": {},
   "outputs": [
    {
     "data": {
      "text/plain": [
       "0.77216134926874"
      ]
     },
     "execution_count": 53,
     "metadata": {},
     "output_type": "execute_result"
    }
   ],
   "source": [
    "model.rsquared"
   ]
  },
  {
   "cell_type": "markdown",
   "id": "8f7276ed",
   "metadata": {},
   "source": [
    "Model 7"
   ]
  },
  {
   "cell_type": "code",
   "execution_count": 55,
   "id": "d3f2b978",
   "metadata": {},
   "outputs": [],
   "source": [
    "r_x = np.reciprocal(DT['SortTime'])"
   ]
  },
  {
   "cell_type": "code",
   "execution_count": 56,
   "id": "307c7bb7",
   "metadata": {},
   "outputs": [
    {
     "data": {
      "text/plain": [
       "0     0.100000\n",
       "1     0.250000\n",
       "2     0.166667\n",
       "3     0.111111\n",
       "4     0.100000\n",
       "5     0.166667\n",
       "6     0.142857\n",
       "7     0.333333\n",
       "8     0.100000\n",
       "9     0.111111\n",
       "10    0.125000\n",
       "11    0.250000\n",
       "12    0.142857\n",
       "13    0.333333\n",
       "14    0.333333\n",
       "15    0.250000\n",
       "16    0.166667\n",
       "17    0.142857\n",
       "18    0.500000\n",
       "19    0.142857\n",
       "20    0.200000\n",
       "Name: SortTime, dtype: float64"
      ]
     },
     "execution_count": 56,
     "metadata": {},
     "output_type": "execute_result"
    }
   ],
   "source": [
    "r_x"
   ]
  },
  {
   "cell_type": "code",
   "execution_count": 57,
   "id": "cdd3eaaa",
   "metadata": {},
   "outputs": [],
   "source": [
    "r_y = np.reciprocal(DT['DelTime'])"
   ]
  },
  {
   "cell_type": "code",
   "execution_count": 58,
   "id": "b3966891",
   "metadata": {},
   "outputs": [
    {
     "data": {
      "text/plain": [
       "0     0.047619\n",
       "1     0.074074\n",
       "2     0.050633\n",
       "3     0.041667\n",
       "4     0.034483\n",
       "5     0.065147\n",
       "6     0.052632\n",
       "7     0.105263\n",
       "8     0.055866\n",
       "9     0.053333\n",
       "10    0.050429\n",
       "11    0.093023\n",
       "12    0.059952\n",
       "13    0.086957\n",
       "14    0.083126\n",
       "15    0.067204\n",
       "16    0.072727\n",
       "17    0.055218\n",
       "18    0.125000\n",
       "19    0.056085\n",
       "20    0.046512\n",
       "Name: DelTime, dtype: float64"
      ]
     },
     "execution_count": 58,
     "metadata": {},
     "output_type": "execute_result"
    }
   ],
   "source": [
    "r_y"
   ]
  },
  {
   "cell_type": "code",
   "execution_count": 59,
   "id": "7cfb836a",
   "metadata": {},
   "outputs": [],
   "source": [
    "model = smf.ols(\"r_y~r_x\" , data = DT).fit()"
   ]
  },
  {
   "cell_type": "code",
   "execution_count": 60,
   "id": "974e65b3",
   "metadata": {},
   "outputs": [
    {
     "data": {
      "text/plain": [
       "0.8354583624350859"
      ]
     },
     "execution_count": 60,
     "metadata": {},
     "output_type": "execute_result"
    }
   ],
   "source": [
    "model.rsquared"
   ]
  },
  {
   "cell_type": "markdown",
   "id": "17e37e85",
   "metadata": {},
   "source": [
    "# Concluding that model 7 is the best model as it gives highest R squared value"
   ]
  },
  {
   "cell_type": "code",
   "execution_count": null,
   "id": "1110a917",
   "metadata": {},
   "outputs": [],
   "source": []
  }
 ],
 "metadata": {
  "kernelspec": {
   "display_name": "Python 3",
   "language": "python",
   "name": "python3"
  },
  "language_info": {
   "codemirror_mode": {
    "name": "ipython",
    "version": 3
   },
   "file_extension": ".py",
   "mimetype": "text/x-python",
   "name": "python",
   "nbconvert_exporter": "python",
   "pygments_lexer": "ipython3",
   "version": "3.8.8"
  }
 },
 "nbformat": 4,
 "nbformat_minor": 5
}
